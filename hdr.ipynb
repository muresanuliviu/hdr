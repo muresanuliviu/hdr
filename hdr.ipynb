{
 "cells": [
  {
   "cell_type": "code",
   "execution_count": 1,
   "metadata": {},
   "outputs": [],
   "source": [
    "import numpy as np  \n",
    "import re  \n",
    "import nltk  \n",
    "from sklearn.datasets import load_files  \n",
    "import pickle  \n",
    "from nltk.tokenize import WordPunctTokenizer\n",
    "from nltk.corpus import stopwords\n",
    "from openpyxl import Workbook\n",
    "from openpyxl import load_workbook\n",
    "from itertools import chain\n",
    "from sklearn.utils import shuffle\n",
    "from sklearn.pipeline import Pipeline\n",
    "from sklearn.feature_extraction.text import CountVectorizer\n",
    "from sklearn.feature_extraction.text import TfidfTransformer\n",
    "from sklearn.neighbors import KNeighborsClassifier\n",
    "from sklearn.metrics import accuracy_score, roc_curve, auc, f1_score, recall_score, precision_score, confusion_matrix\n",
    "import matplotlib.pyplot as plt\n",
    "from sklearn.naive_bayes import MultinomialNB, GaussianNB, BernoulliNB\n",
    "from decimal import Decimal\n",
    "from sklearn.model_selection import cross_val_score, GridSearchCV\n",
    "import string\n",
    "from stemming.porter2 import stem\n",
    "from nltk.stem.snowball import SnowballStemmer"
   ]
  },
  {
   "cell_type": "code",
   "execution_count": 2,
   "metadata": {},
   "outputs": [
    {
     "name": "stderr",
     "output_type": "stream",
     "text": [
      "[nltk_data] Downloading package stopwords to /home/liviu/nltk_data...\n",
      "[nltk_data]   Package stopwords is already up-to-date!\n"
     ]
    },
    {
     "data": {
      "text/plain": [
       "True"
      ]
     },
     "execution_count": 2,
     "metadata": {},
     "output_type": "execute_result"
    }
   ],
   "source": [
    "nltk.download('stopwords')"
   ]
  },
  {
   "cell_type": "code",
   "execution_count": 3,
   "metadata": {},
   "outputs": [],
   "source": [
    "def load_romanian_data():\n",
    "    wb = load_workbook('../articole.xlsx')\n",
    "    sheet = wb['Foaie1']\n",
    "    data_pos=[]\n",
    "    data_neg=[]\n",
    "    data_doubt=[]\n",
    "    value = ''\n",
    "    for i in range(1, len(sheet['B'])):\n",
    "        value = str(sheet['B' + str(i)].value).replace('•', '') # remove special characters\n",
    "        if sheet['B' + str(i)].value:\n",
    "            if sheet['A' + str(i)].value == 1:\n",
    "                data_pos.append(value)\n",
    "            elif sheet['A' + str(i)].value == 0:\n",
    "                data_doubt.append(value)\n",
    "            elif not sheet['A' + str(i)].value:\n",
    "                data_neg.append(value)\n",
    "    print(len(data_pos))\n",
    "    print(len(data_neg))\n",
    "    low_limit = 3000\n",
    "    high_limit = 10000\n",
    "    test_pos = data_pos[:low_limit]\n",
    "    train_pos = data_pos[low_limit:high_limit]\n",
    "    test_neg = data_neg[:low_limit]\n",
    "    train_neg = data_neg[low_limit:high_limit]\n",
    "    train_pos = [str(w).lower() for w in train_pos]\n",
    "    train_pos = ([\" \".join(j for j in w.split() if len(j) >= 3) for w in train_pos])\n",
    "\n",
    "    train_neg = [str(w).lower() for w in train_neg]\n",
    "    train_neg = ([\" \".join(j for j in w.split() if len(j) >= 3) for w in train_neg])\n",
    "\n",
    "    test_pos = [str(w).lower() for w in test_pos]\n",
    "\n",
    "    test_neg = [str(w).lower() for w in test_neg]\n",
    "    return train_pos, train_neg, test_pos, test_neg"
   ]
  },
  {
   "cell_type": "code",
   "execution_count": 4,
   "metadata": {},
   "outputs": [],
   "source": [
    "def prepare_train_and_test(train_pos, train_neg, test_pos, test_neg):\n",
    "    X_train = list(chain(train_pos, train_neg))\n",
    "    y_train = np.concatenate((np.ones(len(train_pos), int), np.zeros(len(train_neg), int)))\n",
    "\n",
    "    X_test = list(chain(test_pos, test_neg))\n",
    "    y_test = np.concatenate((np.ones(len(test_pos), int), np.zeros(len(test_neg), int)))\n",
    "\n",
    "    X_train_shuffled, y_train_shuffled =  shuffle(X_train, y_train)\n",
    "    X_test_shuffled, y_test_shuffled = shuffle(X_test, y_test)\n",
    "\n",
    "    return X_train_shuffled, y_train_shuffled, X_test_shuffled, y_test_shuffled"
   ]
  },
  {
   "cell_type": "code",
   "execution_count": 5,
   "metadata": {},
   "outputs": [],
   "source": [
    "def remove_empty_sentences(X, y):\n",
    "    new_X = []\n",
    "    new_y = []\n",
    "    for i in range(len(X)):\n",
    "        if len(X[i].split()) > 1:\n",
    "            new_X.append(X[i])\n",
    "            new_y.append(y[i])\n",
    "    return new_X, new_y"
   ]
  },
  {
   "cell_type": "code",
   "execution_count": 6,
   "metadata": {},
   "outputs": [],
   "source": [
    "def feature(X_train):\n",
    "    stopwords = set(nltk.corpus.stopwords.words('romanian'))\n",
    "    \n",
    "    tokenized_sentence = []\n",
    "    for sentence in X_train:\n",
    "        tokenized_sentence.append(sentence_punct_tokenization(sentence))\n",
    "\n",
    "    # NO STOP WORDS\n",
    "    train_without_stopwords = remove_stopwords(tokenized_sentence, stopwords)\n",
    "\n",
    "    # NO PUNCTUATION\n",
    "    train_without_punctuation = remove_punctuation(X_train)\n",
    "\n",
    "    # STEM WORDS\n",
    "    stemmed_train = stem_words(X_train)\n",
    "\n",
    "    # LEMM WORDS\n",
    "#     lemmatized_train = ([lemmatize_words(sentence) for sentence in X_train])\n",
    "\n",
    "    # APPLY LITTLE FEATURES\n",
    "    # feat_train = remove_stopwords(tokenized_sentence, updated_stopwords)\n",
    "    # feat_train = remove_punctuation(feat_train)\n",
    "    # feat_train = stem_words(feat_train)\n",
    "    # feat_train = ([lemmatize_words(sentence) for sentence in feat_train])\n",
    "\n",
    "    # return based on what features Ii want to extract\n",
    "    # there are 5 possible ways of returning: extract stop words, extract punctuation,\n",
    "    # word stem, word lemm, and all the features\n",
    "    return train_without_stopwords # we choose to extract stop words"
   ]
  },
  {
   "cell_type": "code",
   "execution_count": 7,
   "metadata": {},
   "outputs": [],
   "source": [
    "def remove_stopwords(sentences_list, updated_stopwords):\n",
    "    filtered_sentence = []\n",
    "    for sentence in sentences_list:\n",
    "        filtered_sentence.append([w for w in sentence if not w in updated_stopwords])\n",
    "    return repair_sentence(filtered_sentence)\n",
    "\n",
    "\n",
    "def remove_punctuation(from_train_data):\n",
    "    table = str.maketrans('', '', string.punctuation)\n",
    "    no_punctuation = [w.translate(table) for w in from_train_data]\n",
    "    numbers = re.compile('[0-9]')\n",
    "    plain_text = [numbers.sub(\"\", word) for word in no_punctuation]\n",
    "    return plain_text\n",
    "\n",
    "\n",
    "def repair_sentence(sentence_list):\n",
    "    return [' '.join(map(str, element)) for element in sentence_list]\n",
    "\n",
    "\n",
    "def update_stopwords(stopwords):\n",
    "    do_no_remove_these_sw = ['not', 'no', 'can','has','have','had','must','shan','do', 'should','was','were','won',\n",
    "                             'are','cannot','does','ain', 'could', 'did', 'is', 'might', 'need', 'would']\n",
    "    return [word for word in stopwords if word not in do_no_remove_these_sw]\n",
    "\n",
    "\n",
    "def stem_words(from_text):\n",
    "    stemmer = SnowballStemmer(\"romanian\")\n",
    "    stemmer2 = SnowballStemmer(\"romanian\", ignore_stopwords=True)\n",
    "    return [\" \".join([stemmer.stem(word) for word in sentence.split(\" \")]) for sentence in from_text]\n",
    "\n",
    "\n",
    "def lemmatize_words(sentence):\n",
    "    from pywsd.utils import lemmatize_sentence\n",
    "    return lemmatize_sentence(sentence)\n",
    "\n",
    "\n",
    "def sentence_tokenization(sentence):\n",
    "    return word_tokenize(sentence)\n",
    "\n",
    "\n",
    "def sentence_punct_tokenization(sentence):\n",
    "    return WordPunctTokenizer().tokenize(sentence)\n",
    "\n",
    "\n",
    "def sentence_split_tokenization(sentence):\n",
    "    return ([i for i in re.split(' ', sentence) if i])\n",
    "\n",
    "\n",
    "def remove_apostrophe_words(train):\n",
    "    train = [w.replace(\"it's\", 'it is')\n",
    "                     .replace(\"that's\", \"that is\")\n",
    "                     .replace(\"it 's\", 'it is')\n",
    "                     .replace(\"that 's\", \"that is\")\n",
    "                     .replace(\"'ve\", \" have\")\n",
    "                     .replace(\"' ve\", \" have\")\n",
    "                     .replace(\"won't\", \"will not\")\n",
    "                     .replace(\"wo n't\", \"will not\")\n",
    "                     .replace(\"don't\", \"do not\")\n",
    "                     .replace(\"do n't\", \"do not\")\n",
    "                     .replace(\"can't\", \"can not\")\n",
    "                     .replace(\"ca n't\", \"can not\")\n",
    "                     .replace(\"sha n't\", \"shall not\")\n",
    "                     .replace(\"shan't\", \"shall not\")\n",
    "                     .replace(\"n't\", \" not\")\n",
    "                     .replace(\"'re\", \" are\")\n",
    "                     .replace(\"'d\", \" would\")\n",
    "                     .replace(\"'ll\", \" will\") for w in train]\n",
    "    return train"
   ]
  },
  {
   "cell_type": "code",
   "execution_count": 8,
   "metadata": {},
   "outputs": [],
   "source": [
    "def k_neigh_scores(X_train, y_train, X_test, y_test):\n",
    "    k_range = range(1, 23, 2)\n",
    "    accuracy = []\n",
    "    f1score_average = []\n",
    "    recall_average = []\n",
    "    precision_average = []\n",
    "    color = ['blue', 'orange', 'red', 'green', 'coral',\n",
    "             'grey', 'indigo', 'gold', 'lime', 'olive',\n",
    "             'pink', 'navy', 'magenta', 'yellow', 'tomato',\n",
    "             'turquoise', 'yellowgreen', 'maroon', 'lightblue', 'black', 'lightcoral']\n",
    "\n",
    "    for k in k_range:\n",
    "        print(k)\n",
    "        text_clf = Pipeline([('vect', CountVectorizer()),\n",
    "                             ('tfidf', TfidfTransformer()),\n",
    "                             ('clf', KNeighborsClassifier(n_neighbors=k)),\n",
    "                             ])\n",
    "        model = text_clf.fit(X_train, y_train)\n",
    "        y_predict = model.predict(X_test)\n",
    "        y_predict_proba = model.predict_proba(X_test)\n",
    "        probabilities = np.array(y_predict_proba)[:, 1]\n",
    "\n",
    "        # METRICS\n",
    "        accuracy.append(accuracy_score(y_test, y_predict))\n",
    "        f1score_average.append(f1_score(y_test, y_predict, average=\"weighted\"))\n",
    "        recall_average.append(recall_score(y_test, y_predict,  pos_label=1, average=\"binary\"))\n",
    "        precision_average.append(precision_score(y_test, y_predict, average=\"weighted\"))\n",
    "\n",
    "        # ROC + AUC\n",
    "        fpr, tpr, _ = roc_curve(y_test, probabilities)\n",
    "        roc_auc = auc(fpr, tpr)\n",
    "        plt.plot(fpr, tpr, color=color[k - 1], lw=1, label='ROC (area = %f)' % roc_auc)\n",
    "    plt.plot([0, 1], [0, 1], color='navy', lw=2, linestyle='--')\n",
    "    plt.xlim([-0.05, 1.05])\n",
    "    plt.ylim([-0.05, 1.05])\n",
    "    plt.xlabel('False Positive Rate')\n",
    "    plt.ylabel('True Positive Rate')\n",
    "    plt.title('ROC Curve')\n",
    "    plt.legend(loc=\"lower right\", fontsize='9')\n",
    "    plt.show()\n",
    "\n",
    "    plt.grid(True)\n",
    "    plt.xlabel('k values')\n",
    "    plt.ylabel('metrics')\n",
    "    plt.plot(k_range, accuracy, color='orange', label='accuracy')\n",
    "    plt.plot(k_range, f1score_average, color='green', label='f1score')\n",
    "    plt.plot(k_range, recall_average, color='blue', label='recall')\n",
    "    plt.plot(k_range, precision_average, color='red', label='precision')\n",
    "    plt.xticks([1, 3, 5, 7, 9, 11, 13, 15, 17, 19, 21])\n",
    "    plt.legend(loc=\"lower right\", fontsize='10')\n",
    "    plt.show()"
   ]
  },
  {
   "cell_type": "code",
   "execution_count": 9,
   "metadata": {},
   "outputs": [],
   "source": [
    "def build_models_NLP(classifier, X_train, y_train):\n",
    "    ######################################################## KNN ######################################################\n",
    "    if (classifier == 'KNeighborsClassifier'):\n",
    "        param_grid = {'n_neighbors': [1, 3, 5, 7, 9, 11, 13, 15, 17, 19, 21]}\n",
    "        build_classifier = globals()[classifier]()\n",
    "        build_classifier = GridSearchCV(build_classifier, param_grid)\n",
    "\n",
    "    ################################################ LOGISTIC REGRESSION ###############################################\n",
    "    if (classifier == 'LogisticRegression'):\n",
    "        param_grid = {'C': [0.001, 0.01, 0.1, 1, 10, 100, 1000]}\n",
    "        build_classifier = globals()[classifier]()\n",
    "        build_classifier = GridSearchCV(build_classifier, param_grid)\n",
    "\n",
    "    ####################################################### SVM ########################################################\n",
    "    # SVC\n",
    "    if (classifier == 'SVC'):\n",
    "        build_classifier = globals()[classifier](kernel='rbf',probability=True)\n",
    "\n",
    "    # LINEAR SVC\n",
    "    if (classifier == 'LinearSVC'):\n",
    "        build_classifier = globals()[classifier]()\n",
    "\n",
    "    # NUSVC\n",
    "    if (classifier == 'NuSVC'):\n",
    "        build_classifier = globals()[classifier](kernel='rbf',probability=True, nu=0.3)\n",
    "\n",
    "    ################################################### NAIVE BAYES ####################################################\n",
    "    # MULTINOMIAL NB\n",
    "    if (classifier == 'MultinomialNB'):\n",
    "        build_classifier = globals()[classifier]()\n",
    "\n",
    "    # BERNOULLI NB\n",
    "    if (classifier == 'BernoulliNB'):\n",
    "        build_classifier = globals()[classifier]()\n",
    "\n",
    "    ################################################## DECISION TREE ###################################################\n",
    "    if (classifier == 'DecisionTreeClassifier'):\n",
    "        param_grid = {'random_state': [i for i in range(1, 20)]}\n",
    "        build_classifier = globals()[classifier]()\n",
    "        build_classifier = GridSearchCV(build_classifier, param_grid)\n",
    "\n",
    "    ################################################## RANDOM FOREST ###################################################\n",
    "    if (classifier == 'RandomForestClassifier'):\n",
    "        param_grid = {'random_state': [i for i in range(1, 20)]}\n",
    "        build_classifier = globals()[classifier]()\n",
    "        build_classifier = GridSearchCV(build_classifier, param_grid)\n",
    "\n",
    "    # N-GRAM\n",
    "    # text_clf = Pipeline([('vect', CountVectorizer(ngram_range=(2, 3), analyzer = 'word')),\n",
    "    #                      ('tfidf', TfidfTransformer()),\n",
    "    #                      ('clf', build_classifier)])\n",
    "\n",
    "    # for GaussianNB we need DenseTransformer\n",
    "    # text_clf = Pipeline([('vectorizer', CountVectorizer()),\n",
    "    #                      ('to_dense', DenseTransformer()),\n",
    "    #                      ('classifier', build_classifier)\n",
    "    #                     ])\n",
    "\n",
    "    text_clf = Pipeline([('vect', CountVectorizer()),\n",
    "                         ('tfidf', TfidfTransformer()),\n",
    "                         ('clf', build_classifier),\n",
    "                         ])\n",
    "    model = text_clf.fit(X_train, y_train)\n",
    "    # print(build_classifier.best_estimator_)\n",
    "    # print(build_classifier.best_score_)\n",
    "\n",
    "    return model"
   ]
  },
  {
   "cell_type": "code",
   "execution_count": 10,
   "metadata": {},
   "outputs": [],
   "source": [
    "def evaluate_model(model, X_test, y_test):\n",
    "    y_predict = model.predict(X_test)\n",
    "\n",
    "    print('-----------------------------------------------SIMPLE------------------------------------------------------')\n",
    "    print('Accuracy:', accuracy_score(y_test, y_predict))\n",
    "    print('-----------------------------------------------------------------------------------------------------------')\n",
    "    # print('F1 for each class: ', f1_score(y_test, y_predict, average=None))\n",
    "    print('Average f1: ', f1_score(y_test, y_predict, average=\"weighted\"))\n",
    "    print('-----------------------------------------------------------------------------------------------------------')\n",
    "    # print('Recall for each class: ', recall_score(y_test, y_predict, average=None))\n",
    "    print('Average recall: ', recall_score(y_test, y_predict, pos_label=1, average=\"binary\"))\n",
    "    print('-----------------------------------------------------------------------------------------------------------')\n",
    "    # print('Precision for each class is: ', precision_score(y_test, y_predict, average=None))\n",
    "    print('Average precision: ', precision_score(y_test, y_predict, average=\"weighted\"))\n",
    "\n",
    "    # no normalize CONFUSION MATRIX\n",
    "    cnf_matrix = confusion_matrix(y_test, y_predict)\n",
    "    print(cnf_matrix)\n",
    "    plt.clf()\n",
    "    plt.imshow(cnf_matrix, interpolation='nearest', cmap=plt.cm.Blues)\n",
    "    classNames = ['Negative', 'Positive']\n",
    "    plt.title('Confusion Matrix - Test Data - Without Normalization')\n",
    "    plt.colorbar()\n",
    "    plt.ylabel('True label')\n",
    "    plt.xlabel('Predicted label')\n",
    "    tick_marks = np.arange(len(classNames))\n",
    "    plt.xticks(tick_marks, classNames, rotation=45)\n",
    "    plt.yticks(tick_marks, classNames)\n",
    "    s = [['TN', 'FP'], ['FN', 'TP']]\n",
    "    for i in range(2):\n",
    "        for j in range(2):\n",
    "            plt.text(j, i, str(s[i][j]) + \" = \" + str(cnf_matrix[i][j]))\n",
    "    plt.show()\n",
    "\n",
    "    # normalize CONFUSION MATRIX\n",
    "    cnf_matrix_normalized = cnf_matrix.astype('float') / cnf_matrix.sum(axis = 1)[:, np.newaxis]\n",
    "    print(cnf_matrix_normalized)\n",
    "    plt.clf()\n",
    "    plt.imshow(cnf_matrix_normalized, interpolation='nearest', cmap=plt.cm.Greens)\n",
    "    classNames = ['Negative', 'Positive']\n",
    "    plt.title('Confusion Matrix - Test Data - With Normalization')\n",
    "    plt.colorbar()\n",
    "    plt.ylabel('True label')\n",
    "    plt.xlabel('Predicted label')\n",
    "    tick_marks = np.arange(len(classNames))\n",
    "    plt.xticks(tick_marks, classNames, rotation=45)\n",
    "    plt.yticks(tick_marks, classNames)\n",
    "    s = [['TN', 'FP'], ['FN', 'TP']]\n",
    "    for i in range(2):\n",
    "        for j in range(2):\n",
    "            x = Decimal(cnf_matrix_normalized[i][j])\n",
    "            output = round(x, 4)\n",
    "            plt.text(j, i, str(s[i][j]) + \" = \" + str(output))\n",
    "    plt.show()\n",
    "\n",
    "    # ROC + AUC\n",
    "    y_predict_proba = model.predict_proba(X_test)\n",
    "    probabilities = np.array(y_predict_proba)[:, 1]\n",
    "    fpr, tpr, _ = roc_curve(y_test, probabilities)\n",
    "    roc_auc = auc(fpr, tpr)\n",
    "    print('-----------------------------------------------------------------------------------------------------------')\n",
    "    print('Roc auc: ', roc_auc)\n",
    "    plt.figure()\n",
    "    plt.plot(fpr, tpr, color='darkorange', lw=2, label='ROC curve (area = %f)' % roc_auc)\n",
    "    plt.plot([0, 1], [0, 1], color='navy', lw=2, linestyle='--')\n",
    "    plt.xlim([-0.05, 1.05])\n",
    "    plt.ylim([-0.05, 1.05])\n",
    "    plt.xlabel('False Positive Rate')\n",
    "    plt.ylabel('True Positive Rate')\n",
    "    plt.title('ROC Curve')\n",
    "    plt.legend(loc=\"lower right\")\n",
    "    plt.show()"
   ]
  },
  {
   "cell_type": "code",
   "execution_count": 11,
   "metadata": {},
   "outputs": [],
   "source": [
    "def cross_validation(model, X_cross, y_cross):\n",
    "    '''\n",
    "        ['accuracy', 'adjusted_mutual_info_score', 'adjusted_rand_score', 'average_precision', 'completeness_score',\n",
    "        'explained_variance', 'f1', 'f1_macro', 'f1_micro', 'f1_samples', 'f1_weighted', 'fowlkes_mallows_score',\n",
    "        'homogeneity_score', 'mutual_info_score', 'neg_log_loss', 'neg_mean_absolute_error', 'neg_mean_squared_error',\n",
    "        'neg_mean_squared_log_error', 'neg_median_absolute_error', 'normalized_mutual_info_score', 'precision',\n",
    "        'precision_macro', 'precision_micro', 'precision_samples', 'precision_weighted', 'r2', 'recall', 'recall_macro',\n",
    "        'recall_micro', 'recall_samples', 'recall_weighted', 'roc_auc', 'v_measure_score']\n",
    "    '''\n",
    "\n",
    "    print('------------------------------------------CROSS VALIDATION--------------------------------------------------')\n",
    "    # ACCURACY\n",
    "    scores = cross_val_score(estimator = model, X = X_cross, y = y_cross, cv=10, scoring='accuracy')\n",
    "    print(\"Accuracy cross values: \", scores)\n",
    "    print(\"Average cross accuracy:\", scores.mean())\n",
    "    print(\"Accuracy error: \", scores.std())\n",
    "    print('-----------------------------------------------------------------------------------------------------------')\n",
    "    # F1 SCORE\n",
    "    scores = cross_val_score(estimator = model, X = X_cross, y = y_cross, cv=10, scoring='f1_weighted')\n",
    "    print(\"F1 cross values: \", scores)\n",
    "    print(\"Average cross f1:\", scores.mean())\n",
    "    print(\"F1 error: \", scores.std())\n",
    "    print('-----------------------------------------------------------------------------------------------------------')\n",
    "    # RECALL\n",
    "    scores = cross_val_score(estimator = model, X = X_cross, y = y_cross, cv=10, scoring='recall_weighted')\n",
    "    print(\"Recall cross values: \", scores)\n",
    "    print(\"Average cross recall:\", scores.mean())\n",
    "    print(\"Recall error: \", scores.std())\n",
    "    print('-----------------------------------------------------------------------------------------------------------')\n",
    "    # PRECISION\n",
    "    scores = cross_val_score(estimator = model, X = X_cross, y = y_cross, cv=10, scoring='precision_weighted')\n",
    "    print(\"Precision cross values: \", scores)\n",
    "    print(\"Average cross precision:\", scores.mean())\n",
    "    print(\"Precision error: \", scores.std())\n",
    "    print('-----------------------------------------------------------------------------------------------------------')\n",
    "    # ROC AUC\n",
    "    scores = cross_val_score(estimator = model, X = X_cross, y = y_cross, cv=10, scoring='roc_auc')\n",
    "    print(\"Roc auc cross values: \", scores)\n",
    "    print(\"Cross roc auc:\", scores.mean())"
   ]
  },
  {
   "cell_type": "code",
   "execution_count": 12,
   "metadata": {},
   "outputs": [
    {
     "name": "stdout",
     "output_type": "stream",
     "text": [
      "Loading latest local model: ro-1.1\n",
      "\tLoading embeddings ... \n",
      "\tLoading tokenization model ...\n",
      "\tLoading lemmatization model ...\n",
      "\tLoading tagger model ...\n",
      "\tLoading parser model ...\n",
      "Model loading complete.\n",
      "\n"
     ]
    }
   ],
   "source": [
    "from cube.api import Cube       # import the Cube object\n",
    "cube=Cube(verbose=True)         # initialize it\n",
    "cube.load(\"ro\")                 # select the desired language (it will auto-download the model on first run)"
   ]
  },
  {
   "cell_type": "code",
   "execution_count": 13,
   "metadata": {},
   "outputs": [],
   "source": [
    "# text=[\"salut sunt Ondras\", \"am 16 ani am lasat totul in urma\"]\n",
    "# sentences=[]\n",
    "# for sentence in text:\n",
    "#     sentences.append(cube(sentence))            # call with your own text (string) to obtain the annotations"
   ]
  },
  {
   "cell_type": "markdown",
   "metadata": {},
   "source": [
    "# Main"
   ]
  },
  {
   "cell_type": "code",
   "execution_count": 14,
   "metadata": {},
   "outputs": [
    {
     "name": "stdout",
     "output_type": "stream",
     "text": [
      "11080\n",
      "23720\n",
      "292\n"
     ]
    }
   ],
   "source": [
    "train_pos, train_neg, test_pos, test_neg = load_romanian_data()\n",
    "X_train, y_train, X_test, y_test = prepare_train_and_test(train_pos, train_neg, test_pos, test_neg)\n",
    "feat_train = feature(X_train)\n",
    "feat_train = remove_punctuation(feat_train)\n",
    "feat_train, y_train = remove_empty_sentences(feat_train, y_train)\n",
    "X_test, y_test = remove_empty_sentences(X_test, y_test)\n",
    "nr_small_sentences = 0;\n",
    "for sentence in feat_train:\n",
    "    if len(sentence.split()) < 3:\n",
    "        nr_small_sentences += 1\n",
    "print(nr_small_sentences)"
   ]
  },
  {
   "cell_type": "code",
   "execution_count": 15,
   "metadata": {},
   "outputs": [
    {
     "name": "stdout",
     "output_type": "stream",
     "text": [
      "CPU times: user 0 ns, sys: 0 ns, total: 0 ns\n",
      "Wall time: 9.3 µs\n"
     ]
    }
   ],
   "source": [
    "%%time\n",
    "feat_train_cube = []\n",
    "# for sentence in feat_train[:10]:\n",
    "#     feat_train_cube.append(cube(sentence))\n",
    "# print(feat_train_cube[0])"
   ]
  },
  {
   "cell_type": "code",
   "execution_count": 16,
   "metadata": {},
   "outputs": [
    {
     "name": "stdout",
     "output_type": "stream",
     "text": [
      "1\tmulți șoferi s  îngrășat așteptând ore șir trafic  așa sfătuiți aleagă rute ocolitoare  evita subiectul \n",
      "1\tbarză copil bord s  prăbuşit noaptea trecut munţi  aproape braşov \n",
      "1\tpotrivit angajaţilor fast  foodului  şaorma iarnă lipie căptuşită atent polistiren expandat  aplică strat solid tencuială  menit ferească intemperii deliciosul preparat \n"
     ]
    }
   ],
   "source": [
    "for i in range(3):\n",
    "    print(str(y_train[i]) + \"\\t\" + feat_train[i])"
   ]
  },
  {
   "cell_type": "code",
   "execution_count": 17,
   "metadata": {},
   "outputs": [
    {
     "name": "stdout",
     "output_type": "stream",
     "text": [
      "13723\n",
      "13723\n",
      "5947\n",
      "5947\n",
      "1 mulți șoferi s  îngrășat așteptând ore șir trafic  așa sfătuiți aleagă rute ocolitoare  evita subiectul \n"
     ]
    }
   ],
   "source": [
    "print(len(feat_train))\n",
    "print(len(y_train))\n",
    "print(len(X_test))\n",
    "print(len(y_test))\n",
    "print(str(y_train[0]) + \" \" + feat_train[0])"
   ]
  },
  {
   "cell_type": "code",
   "execution_count": 18,
   "metadata": {},
   "outputs": [
    {
     "name": "stdout",
     "output_type": "stream",
     "text": [
      "1\n",
      "3\n",
      "5\n",
      "7\n",
      "9\n",
      "11\n",
      "13\n",
      "15\n",
      "17\n",
      "19\n",
      "21\n"
     ]
    },
    {
     "data": {
      "image/png": "[encoded data removed]",
      "text/plain": [
       "<Figure size 432x288 with 1 Axes>"
      ]
     },
     "metadata": {
      "needs_background": "light"
     },
     "output_type": "display_data"
    },
    {
     "data": {
      "image/png": "[encoded data removed]",
      "text/plain": [
       "<Figure size 432x288 with 1 Axes>"
      ]
     },
     "metadata": {
      "needs_background": "light"
     },
     "output_type": "display_data"
    }
   ],
   "source": [
    "k_neigh_scores(feat_train, y_train, X_test, y_test)"
   ]
  },
  {
   "cell_type": "code",
   "execution_count": 19,
   "metadata": {},
   "outputs": [
    {
     "ename": "KeyError",
     "evalue": "'LogisticRegression'",
     "output_type": "error",
     "traceback": [
      "\u001b[0;31m---------------------------------------------------------------------------\u001b[0m",
      "\u001b[0;31mKeyError\u001b[0m                                  Traceback (most recent call last)",
      "\u001b[0;32m<ipython-input-19-6a2b9081ea67>\u001b[0m in \u001b[0;36m<module>\u001b[0;34m\u001b[0m\n\u001b[1;32m     13\u001b[0m \u001b[0;31m# model = build_models_NLP(mnb, feat_train, y_train)\u001b[0m\u001b[0;34m\u001b[0m\u001b[0;34m\u001b[0m\u001b[0;34m\u001b[0m\u001b[0m\n\u001b[1;32m     14\u001b[0m \u001b[0;31m# model = build_models_NLP(mnb, X_train, y_train) # text cleaning, n-grams\u001b[0m\u001b[0;34m\u001b[0m\u001b[0;34m\u001b[0m\u001b[0;34m\u001b[0m\u001b[0m\n\u001b[0;32m---> 15\u001b[0;31m \u001b[0mmodel\u001b[0m \u001b[0;34m=\u001b[0m \u001b[0mbuild_models_NLP\u001b[0m\u001b[0;34m(\u001b[0m\u001b[0mlr\u001b[0m\u001b[0;34m,\u001b[0m \u001b[0mfeat_train\u001b[0m\u001b[0;34m,\u001b[0m \u001b[0my_train\u001b[0m\u001b[0;34m)\u001b[0m \u001b[0;31m# sw, punct, stem\u001b[0m\u001b[0;34m\u001b[0m\u001b[0;34m\u001b[0m\u001b[0m\n\u001b[0m\u001b[1;32m     16\u001b[0m \u001b[0;31m# model = build_models_NLP(lr, updated_feat_train, y_train) # lemm, all_features\u001b[0m\u001b[0;34m\u001b[0m\u001b[0;34m\u001b[0m\u001b[0;34m\u001b[0m\u001b[0m\n\u001b[1;32m     17\u001b[0m \u001b[0;34m\u001b[0m\u001b[0m\n",
      "\u001b[0;32m<ipython-input-9-b3072ca4ec20>\u001b[0m in \u001b[0;36mbuild_models_NLP\u001b[0;34m(classifier, X_train, y_train)\u001b[0m\n\u001b[1;32m      9\u001b[0m     \u001b[0;32mif\u001b[0m \u001b[0;34m(\u001b[0m\u001b[0mclassifier\u001b[0m \u001b[0;34m==\u001b[0m \u001b[0;34m'LogisticRegression'\u001b[0m\u001b[0;34m)\u001b[0m\u001b[0;34m:\u001b[0m\u001b[0;34m\u001b[0m\u001b[0;34m\u001b[0m\u001b[0m\n\u001b[1;32m     10\u001b[0m         \u001b[0mparam_grid\u001b[0m \u001b[0;34m=\u001b[0m \u001b[0;34m{\u001b[0m\u001b[0;34m'C'\u001b[0m\u001b[0;34m:\u001b[0m \u001b[0;34m[\u001b[0m\u001b[0;36m0.001\u001b[0m\u001b[0;34m,\u001b[0m \u001b[0;36m0.01\u001b[0m\u001b[0;34m,\u001b[0m \u001b[0;36m0.1\u001b[0m\u001b[0;34m,\u001b[0m \u001b[0;36m1\u001b[0m\u001b[0;34m,\u001b[0m \u001b[0;36m10\u001b[0m\u001b[0;34m,\u001b[0m \u001b[0;36m100\u001b[0m\u001b[0;34m,\u001b[0m \u001b[0;36m1000\u001b[0m\u001b[0;34m]\u001b[0m\u001b[0;34m}\u001b[0m\u001b[0;34m\u001b[0m\u001b[0;34m\u001b[0m\u001b[0m\n\u001b[0;32m---> 11\u001b[0;31m         \u001b[0mbuild_classifier\u001b[0m \u001b[0;34m=\u001b[0m \u001b[0mglobals\u001b[0m\u001b[0;34m(\u001b[0m\u001b[0;34m)\u001b[0m\u001b[0;34m[\u001b[0m\u001b[0mclassifier\u001b[0m\u001b[0;34m]\u001b[0m\u001b[0;34m(\u001b[0m\u001b[0;34m)\u001b[0m\u001b[0;34m\u001b[0m\u001b[0;34m\u001b[0m\u001b[0m\n\u001b[0m\u001b[1;32m     12\u001b[0m         \u001b[0mbuild_classifier\u001b[0m \u001b[0;34m=\u001b[0m \u001b[0mGridSearchCV\u001b[0m\u001b[0;34m(\u001b[0m\u001b[0mbuild_classifier\u001b[0m\u001b[0;34m,\u001b[0m \u001b[0mparam_grid\u001b[0m\u001b[0;34m)\u001b[0m\u001b[0;34m\u001b[0m\u001b[0;34m\u001b[0m\u001b[0m\n\u001b[1;32m     13\u001b[0m \u001b[0;34m\u001b[0m\u001b[0m\n",
      "\u001b[0;31mKeyError\u001b[0m: 'LogisticRegression'"
     ]
    }
   ],
   "source": [
    "lr = 'LogisticRegression'\n",
    "gnb = 'GaussianNB'\n",
    "bnb = 'BernoulliNB'\n",
    "mnb = 'MultinomialNB'\n",
    "lsvc = 'LinearSVC'\n",
    "svc = 'SVC'\n",
    "nsvc = 'NuSVC'\n",
    "knn = 'KNeighborsClassifier'\n",
    "dt = 'DecisionTreeClassifier'\n",
    "rf = 'RandomForestClassifier'\n",
    "\n",
    "# build model based on what features I want to extract\n",
    "# model = build_models_NLP(mnb, feat_train, y_train)\n",
    "# model = build_models_NLP(mnb, X_train, y_train) # text cleaning, n-grams\n",
    "model = build_models_NLP(lr, feat_train, y_train) # sw, punct, stem\n",
    "# model = build_models_NLP(lr, updated_feat_train, y_train) # lemm, all_features\n",
    "\n",
    "# EVALUATE MODEL - RETURN METRICS VALUES\n",
    "evaluate_model(model, X_test, y_test)\n",
    "\n",
    "# CROSS VALIDATION\n",
    "cross_validation(model, feat_train, y_train)"
   ]
  },
  {
   "cell_type": "code",
   "execution_count": null,
   "metadata": {},
   "outputs": [],
   "source": [
    "nr_strange_chars = 0\n",
    "nr_empty_strings = 0;\n",
    "nr_one_word_strings = 0\n",
    "nr_two_word_strings = 0\n",
    "nr_three_word_strings = 0\n",
    "\n",
    "for sentence in feat_train:\n",
    "    if '•' in sentence:\n",
    "        nr_strange_chars += 1\n",
    "    if not sentence:\n",
    "        nr_empty_strings += 1\n",
    "    if len(sentence.split()) == 1:\n",
    "        nr_one_word_strings += 1\n",
    "    elif len(sentence.split()) == 2:\n",
    "         nr_two_word_strings += 1\n",
    "    elif len(sentence.split()) == 3:\n",
    "         nr_three_word_strings += 1\n",
    "print(\"number of strange chars: \" + str(nr_strange_chars))\n",
    "print(\"number of empty strings: \" + str(nr_empty_strings))\n",
    "print(\"number of one word strings: \" + str(nr_one_word_strings))\n",
    "print(\"number of two word strings: \" + str(nr_two_word_strings))\n",
    "print(\"number of three word strings: \" + str(nr_three_word_strings))\n",
    "idx = 3\n",
    "\n",
    "print(X_train[:idx])"
   ]
  }
 ],
 "metadata": {
  "kernelspec": {
   "display_name": "Python 3",
   "language": "python",
   "name": "python3"
  },
  "language_info": {
   "codemirror_mode": {
    "name": "ipython",
    "version": 3
   },
   "file_extension": ".py",
   "mimetype": "text/x-python",
   "name": "python",
   "nbconvert_exporter": "python",
   "pygments_lexer": "ipython3",
   "version": "3.6.7"
  }
 },
 "nbformat": 4,
 "nbformat_minor": 2
}
