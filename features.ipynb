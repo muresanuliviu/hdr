{
 "cells": [
  {
   "cell_type": "code",
   "execution_count": 162,
   "metadata": {},
   "outputs": [],
   "source": [
    "import numpy as np\n",
    "from sklearn.datasets import fetch_20newsgroups\n",
    "from sklearn.feature_extraction.text import TfidfVectorizer\n",
    "from sklearn import metrics\n",
    "from sklearn.naive_bayes import MultinomialNB\n",
    "from sklearn.neighbors import KNeighborsClassifier\n",
    "from sklearn.ensemble import RandomForestClassifier\n",
    "from sklearn.svm import LinearSVC\n",
    "from openpyxl import Workbook\n",
    "from openpyxl import load_workbook\n",
    "import re\n",
    "from itertools import chain\n",
    "from sklearn.utils import shuffle\n",
    "import nltk  \n",
    "from nltk.tokenize import WordPunctTokenizer\n",
    "from nltk.corpus import stopwords\n",
    "import string\n",
    "from nltk.stem.snowball import SnowballStemmer\n",
    "from sklearn.decomposition import PCA\n",
    "from sklearn.decomposition import TruncatedSVD\n",
    "from sklearn.preprocessing import Normalizer\n",
    "from sklearn.discriminant_analysis import LinearDiscriminantAnalysis as LDA\n",
    "from sklearn.svm import SVC\n",
    "from sklearn.pipeline import Pipeline\n",
    "from sklearn.pipeline import Pipeline, FeatureUnion\n",
    "from sklearn.feature_extraction.text import CountVectorizer\n",
    "from sklearn.metrics import roc_curve, auc\n",
    "import matplotlib.pyplot as plt"
   ]
  },
  {
   "cell_type": "code",
   "execution_count": 73,
   "metadata": {},
   "outputs": [],
   "source": [
    "def load_romanian_data():\n",
    "    wb = load_workbook('../articole.xlsx')\n",
    "    sheet = wb['Foaie1']\n",
    "    data_pos=[]\n",
    "    data_neg=[]\n",
    "    data_doubt=[]\n",
    "    value = ''\n",
    "    for i in range(1, len(sheet['B'])):\n",
    "        value = str(sheet['B' + str(i)].value).replace('•', '') # remove special characters\n",
    "        if bool(re.match('^(?=.*[a-zA-Z])', str(sheet['B' + str(i)].value))): # check if string not empty and has letters\n",
    "            if sheet['A' + str(i)].value == 1:\n",
    "                data_pos.append(value)\n",
    "            elif sheet['A' + str(i)].value == 0:\n",
    "                data_doubt.append(value)\n",
    "            elif not sheet['A' + str(i)].value:\n",
    "                data_neg.append(value)\n",
    "    print(\"data pos len: \" + str(len(data_pos)))\n",
    "    print( \"data neg len: \" + str(len(data_neg)))\n",
    "    \n",
    "#     low_limit = 3000\n",
    "#     high_limit = 10000\n",
    "#     test_pos = data_pos[:low_limit]\n",
    "#     train_pos = data_pos[low_limit:high_limit]\n",
    "#     test_neg = data_neg[:low_limit]\n",
    "    limit = 2400\n",
    "    test_pos = data_pos[:limit]\n",
    "    test_neg = data_neg[:limit]\n",
    "#     train_pos = data_pos[limit:]\n",
    "#     train_neg = data_neg[limit:len(data_pos)] # we make sure len of neg data = len of pos data(len neg > len pos initially)\n",
    "\n",
    "#     train_pos = [str(w).lower() for w in train_pos]\n",
    "#     train_pos = ([\" \".join(j for j in w.split() if len(j) >= 2) for w in train_pos])\n",
    "\n",
    "#     train_neg = [str(w).lower() for w in train_neg]\n",
    "#     train_neg = ([\" \".join(j for j in w.split() if len(j) >= 2) for w in train_neg])\n",
    "\n",
    "    with open(\"data/lemma/train_pos_lemma.txt\") as pos_lemma:\n",
    "        train_pos_lemma = pos_lemma.readlines()\n",
    "    train_pos_lemma = ([\" \".join(j for j in w.split() if len(j) >= 2) for w in train_pos_lemma])\n",
    "    with open(\"data/lemma/train_neg_lemma.txt\") as neg_lemma:\n",
    "        train_neg_lemma = neg_lemma.readlines()\n",
    "    train_neg_lemma = ([\" \".join(j for j in w.split() if len(j) >= 2) for w in train_neg_lemma])\n",
    "    \n",
    "    test_pos = [str(w).lower() for w in test_pos]\n",
    "    test_neg = [str(w).lower() for w in test_neg]\n",
    "    \n",
    "    return train_pos_lemma, train_neg_lemma, test_pos, test_neg"
   ]
  },
  {
   "cell_type": "code",
   "execution_count": 74,
   "metadata": {},
   "outputs": [],
   "source": [
    "def prepare_train_and_test(train_pos, train_neg, test_pos, test_neg):\n",
    "    X_train = list(chain(train_pos, train_neg))\n",
    "    y_train = np.concatenate((np.ones(len(train_pos), int), np.zeros(len(train_neg), int)))\n",
    "\n",
    "    X_test = list(chain(test_pos, test_neg))\n",
    "    y_test = np.concatenate((np.ones(len(test_pos), int), np.zeros(len(test_neg), int)))\n",
    "\n",
    "    X_train_shuffled, y_train_shuffled =  shuffle(X_train, y_train)\n",
    "    X_test_shuffled, y_test_shuffled = shuffle(X_test, y_test)\n",
    "\n",
    "    return X_train_shuffled, y_train_shuffled, X_test_shuffled, y_test_shuffled"
   ]
  },
  {
   "cell_type": "code",
   "execution_count": 75,
   "metadata": {},
   "outputs": [],
   "source": [
    "def remove_stopwords(sentences_list, updated_stopwords):\n",
    "    filtered_sentence = []\n",
    "    for sentence in sentences_list:\n",
    "        filtered_sentence.append([w for w in sentence if not w in updated_stopwords])\n",
    "    return repair_sentence(filtered_sentence)\n",
    "\n",
    "\n",
    "def remove_punctuation(from_train_data):\n",
    "    table = str.maketrans('', '', string.punctuation)\n",
    "    no_punctuation = [w.translate(table) for w in from_train_data]\n",
    "    numbers = re.compile('[0-9]')\n",
    "    plain_text = [numbers.sub(\"\", word) for word in no_punctuation]\n",
    "    return plain_text\n",
    "    \n",
    "\n",
    "def remove_spaces(from_train_data):\n",
    "    clean_spaces_data = []\n",
    "    for sentence in from_train_data:\n",
    "        clean_spaces_data.append(re.sub(' +', ' ', sentence).rstrip().lstrip())\n",
    "    return clean_spaces_data\n",
    "\n",
    "def repair_sentence(sentence_list):\n",
    "    return [' '.join(map(str, element)) for element in sentence_list]\n",
    "\n",
    "\n",
    "def update_stopwords(stopwords):\n",
    "    do_no_remove_these_sw = ['not', 'no', 'can','has','have','had','must','shan','do', 'should','was','were','won',\n",
    "                             'are','cannot','does','ain', 'could', 'did', 'is', 'might', 'need', 'would']\n",
    "    return [word for word in stopwords if word not in do_no_remove_these_sw]\n",
    "\n",
    "\n",
    "def stem_words(from_text):\n",
    "    stemmer = SnowballStemmer(\"romanian\")\n",
    "    stemmer2 = SnowballStemmer(\"romanian\", ignore_stopwords=True)\n",
    "    return [\" \".join([stemmer.stem(word) for word in sentence.split(\" \")]) for sentence in from_text]\n",
    "\n",
    "\n",
    "def lemmatize_words(sentence):\n",
    "    from pywsd.utils import lemmatize_sentence\n",
    "    return lemmatize_sentence(sentence)\n",
    "\n",
    "\n",
    "def sentence_tokenization(sentence):\n",
    "    return word_tokenize(sentence)\n",
    "\n",
    "\n",
    "def sentence_punct_tokenization(sentence):\n",
    "    return WordPunctTokenizer().tokenize(sentence)\n",
    "\n",
    "\n",
    "def sentence_split_tokenization(sentence):\n",
    "    return ([i for i in re.split(' ', sentence) if i])\n",
    "\n",
    "\n",
    "def remove_apostrophe_words(train):\n",
    "    train = [w.replace(\"it's\", 'it is')\n",
    "                     .replace(\"that's\", \"that is\")\n",
    "                     .replace(\"it 's\", 'it is')\n",
    "                     .replace(\"that 's\", \"that is\")\n",
    "                     .replace(\"'ve\", \" have\")\n",
    "                     .replace(\"' ve\", \" have\")\n",
    "                     .replace(\"won't\", \"will not\")\n",
    "                     .replace(\"wo n't\", \"will not\")\n",
    "                     .replace(\"don't\", \"do not\")\n",
    "                     .replace(\"do n't\", \"do not\")\n",
    "                     .replace(\"can't\", \"can not\")\n",
    "                     .replace(\"ca n't\", \"can not\")\n",
    "                     .replace(\"sha n't\", \"shall not\")\n",
    "                     .replace(\"shan't\", \"shall not\")\n",
    "                     .replace(\"n't\", \" not\")\n",
    "                     .replace(\"'re\", \" are\")\n",
    "                     .replace(\"'d\", \" would\")\n",
    "                     .replace(\"'ll\", \" will\") for w in train]\n",
    "    return train\n",
    "\n",
    "def remove_empty_sentences(X, y):\n",
    "    new_X = []\n",
    "    new_y = []\n",
    "    for i in range(len(X)):\n",
    "        if len(X[i].split()) > 1:\n",
    "            new_X.append(X[i])\n",
    "            new_y.append(y[i])\n",
    "    return new_X, new_y"
   ]
  },
  {
   "cell_type": "code",
   "execution_count": 76,
   "metadata": {},
   "outputs": [],
   "source": [
    "def feature(X_train):\n",
    "    stopwords = set(nltk.corpus.stopwords.words('romanian'))\n",
    "    \n",
    "    tokenized_sentence = []\n",
    "    for sentence in X_train:\n",
    "        tokenized_sentence.append(sentence_punct_tokenization(sentence))\n",
    "\n",
    "    # NO STOP WORDS\n",
    "    train_without_stopwords = remove_stopwords(tokenized_sentence, stopwords)\n",
    "\n",
    "    # NO PUNCTUATION\n",
    "    train_without_punctuation = remove_punctuation(train_without_stopwords)\n",
    "    train_clean_spaces = remove_spaces(train_without_punctuation)\n",
    "    return train_clean_spaces # we choose to extract stop words"
   ]
  },
  {
   "cell_type": "markdown",
   "metadata": {},
   "source": [
    "# Main"
   ]
  },
  {
   "cell_type": "code",
   "execution_count": 77,
   "metadata": {},
   "outputs": [],
   "source": [
    "from sklearn import svm"
   ]
  },
  {
   "cell_type": "code",
   "execution_count": 78,
   "metadata": {},
   "outputs": [
    {
     "name": "stdout",
     "output_type": "stream",
     "text": [
      "data pos len: 11077\n",
      "data neg len: 23509\n"
     ]
    }
   ],
   "source": [
    "train_pos, train_neg, test_pos, test_neg = load_romanian_data()"
   ]
  },
  {
   "cell_type": "code",
   "execution_count": 79,
   "metadata": {},
   "outputs": [],
   "source": [
    "X_train, y_train, X_test, y_test = prepare_train_and_test(train_pos, train_neg, test_pos, test_neg)"
   ]
  },
  {
   "cell_type": "code",
   "execution_count": 80,
   "metadata": {},
   "outputs": [],
   "source": [
    "feat_train = feature(X_train)"
   ]
  },
  {
   "cell_type": "code",
   "execution_count": 81,
   "metadata": {},
   "outputs": [],
   "source": [
    "svd = TruncatedSVD(n_components=80, random_state=13)\n",
    "svm_clf = svm.SVC(gamma='scale')"
   ]
  },
  {
   "cell_type": "markdown",
   "metadata": {},
   "source": [
    "Character bigrams"
   ]
  },
  {
   "cell_type": "code",
   "execution_count": 169,
   "metadata": {},
   "outputs": [],
   "source": [
    "char_bigram_vectorizer = CountVectorizer(analyzer='char_wb', ngram_range=(2, 2))\n",
    "# counts = ngram_vectorizer.fit_transform(['words', 'wprds'])\n",
    "X_train_char_bigrams = char_bigram_vectorizer.fit_transform(X_train)\n",
    "X_test_char_bigrams = char_bigram_vectorizer.fit_transform(X_test)\n",
    "# ngram_vectorizer.get_feature_names() == (\n",
    "#     [' w', 'ds', 'or', 'pr', 'rd', 's ', 'wo', 'wp']"
   ]
  },
  {
   "cell_type": "code",
   "execution_count": 170,
   "metadata": {},
   "outputs": [],
   "source": [
    "# Fit the LSI model and perform dimensionality reduction\n",
    "X_train_char_bigrams_reduced = svd.fit_transform(X_train_char_bigrams)\n",
    "X_test_char_bigrams_reduced = svd.fit_transform(X_test_char_bigrams)"
   ]
  },
  {
   "cell_type": "code",
   "execution_count": 171,
   "metadata": {
    "scrolled": true
   },
   "outputs": [
    {
     "name": "stdout",
     "output_type": "stream",
     "text": [
      "========== Character 2-grams (SVM) ==========\n",
      "The F-1 score for test query is 0.7057252282262025\n",
      "Training accuracy of SVM model is 0.7214179870055853\n",
      "Test accuracy of SVM model is 0.7058333333333333\n",
      "\n"
     ]
    }
   ],
   "source": [
    "# 4. Support Vector Machine\n",
    "svm_clf = svm.SVC(gamma='scale')\n",
    "svm_clf.fit(X_train_char_bigrams_reduced, y_train)\n",
    "\n",
    "predicted_test = svm_clf.predict(X_test_char_bigrams_reduced)\n",
    "predicted_train = svm_clf.predict(X_train_char_bigrams_reduced)\n",
    "\n",
    "print('========== Character 2-grams (SVM) ==========')\n",
    "print('The F-1 score for test query is ' + str(metrics.f1_score(y_test, predicted_test, average = 'macro')))\n",
    "print('Training accuracy of SVM model is ' + str(np.mean(predicted_train == y_train)))\n",
    "print('Test accuracy of SVM model is ' + str(np.mean(predicted_test == y_test)))\n",
    "print('')"
   ]
  },
  {
   "cell_type": "code",
   "execution_count": 172,
   "metadata": {},
   "outputs": [
    {
     "name": "stdout",
     "output_type": "stream",
     "text": [
      "-----------------------------------------------------------------------------------------------------------\n",
      "Roc auc:  0.7058333333333333\n"
     ]
    },
    {
     "data": {
      "image/png": "[encoded data removed]",
      "text/plain": [
       "<Figure size 432x288 with 1 Axes>"
      ]
     },
     "metadata": {
      "needs_background": "light"
     },
     "output_type": "display_data"
    }
   ],
   "source": [
    "# ROC + AUC\n",
    "# y_predict_proba = model.predict_proba(X_test)\n",
    "probabilities = np.array(predicted_test)\n",
    "fpr, tpr, _ = roc_curve(y_test, probabilities)\n",
    "roc_auc = auc(fpr, tpr)\n",
    "print('-----------------------------------------------------------------------------------------------------------')\n",
    "print('Roc auc: ', roc_auc)\n",
    "plt.figure()\n",
    "plt.plot(fpr, tpr, color='darkorange', lw=2, label='ROC curve (area = %f)' % roc_auc)\n",
    "plt.plot([0, 1], [0, 1], color='navy', lw=2, linestyle='--')\n",
    "plt.xlim([-0.05, 1.05])\n",
    "plt.ylim([-0.05, 1.05])\n",
    "plt.xlabel('False Positive Rate')\n",
    "plt.ylabel('True Positive Rate')\n",
    "plt.title('ROC Curve')\n",
    "plt.legend(loc=\"lower right\")\n",
    "plt.show()"
   ]
  },
  {
   "cell_type": "markdown",
   "metadata": {},
   "source": [
    "Character trigrams"
   ]
  },
  {
   "cell_type": "code",
   "execution_count": 173,
   "metadata": {
    "scrolled": false
   },
   "outputs": [],
   "source": [
    "char_trigram_vectorizer = CountVectorizer(analyzer='char_wb', ngram_range=(3, 3))\n",
    "X_train_char_trigrams = char_trigram_vectorizer.fit_transform(X_train)\n",
    "X_test_char_trigrams = char_trigram_vectorizer.fit_transform(X_test)"
   ]
  },
  {
   "cell_type": "code",
   "execution_count": 174,
   "metadata": {},
   "outputs": [],
   "source": [
    "# Fit the LSI model and perform dimensionality reduction\n",
    "X_train_char_trigrams_reduced = svd.fit_transform(X_train_char_trigrams)\n",
    "X_test_char_trigrams_reduced = svd.fit_transform(X_test_char_trigrams)"
   ]
  },
  {
   "cell_type": "code",
   "execution_count": 175,
   "metadata": {
    "scrolled": false
   },
   "outputs": [
    {
     "name": "stdout",
     "output_type": "stream",
     "text": [
      "========== Character 3-grams (SVM) ==========\n",
      "The F-1 score for test query is 0.5192217299197985\n",
      "Training accuracy of SVM model is 0.741593525589878\n",
      "Test accuracy of SVM model is 0.5727083333333334\n",
      "\n"
     ]
    }
   ],
   "source": [
    "# 4. Support Vector Machine\n",
    "svm_clf.fit(X_train_char_trigrams_reduced, y_train)\n",
    "\n",
    "predicted_test = svm_clf.predict(X_test_char_trigrams_reduced)\n",
    "predicted_train = svm_clf.predict(X_train_char_trigrams_reduced)\n",
    "\n",
    "print('========== Character 3-grams (SVM) ==========')\n",
    "print('The F-1 score for test query is ' + str(metrics.f1_score(y_test, predicted_test, average = 'macro')))\n",
    "print('Training accuracy of SVM model is ' + str(np.mean(predicted_train == y_train)))\n",
    "print('Test accuracy of SVM model is ' + str(np.mean(predicted_test == y_test)))\n",
    "print('')"
   ]
  },
  {
   "cell_type": "markdown",
   "metadata": {},
   "source": [
    "Character 4-grams"
   ]
  },
  {
   "cell_type": "code",
   "execution_count": 34,
   "metadata": {},
   "outputs": [
    {
     "data": {
      "text/plain": [
       "array([[0, 0, 0, ..., 0, 0, 0],\n",
       "       [0, 1, 1, ..., 0, 0, 0],\n",
       "       [1, 1, 2, ..., 0, 0, 0],\n",
       "       ...,\n",
       "       [0, 0, 0, ..., 0, 0, 0],\n",
       "       [4, 1, 1, ..., 0, 0, 0],\n",
       "       [2, 0, 4, ..., 0, 0, 0]])"
      ]
     },
     "execution_count": 34,
     "metadata": {},
     "output_type": "execute_result"
    }
   ],
   "source": [
    "char_4gram_vectorizer = CountVectorizer(analyzer='char_wb', ngram_range=(4, 4))\n",
    "X_train_char_4grams = char_4gram_vectorizer.fit_transform(X_train)\n",
    "X_test_char_4grams = char_4gram_vectorizer.fit_transform(X_test)"
   ]
  },
  {
   "cell_type": "code",
   "execution_count": 37,
   "metadata": {},
   "outputs": [],
   "source": [
    "# Fit the LSI model and perform dimensionality reduction\n",
    "X_train_char_4grams_reduced = svd.fit_transform(X_train_char_4grams)\n",
    "X_test_char_4grams_reduced = svd.fit_transform(X_test_char_4grams)"
   ]
  },
  {
   "cell_type": "code",
   "execution_count": 38,
   "metadata": {
    "scrolled": true
   },
   "outputs": [
    {
     "name": "stdout",
     "output_type": "stream",
     "text": [
      "========== Support Vector Machine ==========\n",
      "The F-1 score for test query is 0.5014245014245013\n",
      "Training accuracy of SVM model is 0.7282571526273794\n",
      "Test accuracy of SVM model is 0.5625\n",
      "\n"
     ]
    }
   ],
   "source": [
    "# 4. Support Vector Machine\n",
    "svm_clf = svm.SVC(gamma='scale')\n",
    "svm_clf.fit(X_train_char_4grams_reduced, y_train)\n",
    "\n",
    "predicted_test = svm_clf.predict(X_test_char_4grams_reduced)\n",
    "predicted_train = svm_clf.predict(X_train_char_4grams_reduced)\n",
    "\n",
    "print('========== Character 4-grams (SVM) ==========')\n",
    "print('The F-1 score for test query is ' + str(metrics.f1_score(y_test, predicted_test, average = 'macro')))\n",
    "print('Training accuracy of SVM model is ' + str(np.mean(predicted_train == y_train)))\n",
    "print('Test accuracy of SVM model is ' + str(np.mean(predicted_test == y_test)))\n",
    "print('')"
   ]
  },
  {
   "cell_type": "markdown",
   "metadata": {},
   "source": [
    "Character 5-grams"
   ]
  },
  {
   "cell_type": "code",
   "execution_count": 39,
   "metadata": {},
   "outputs": [
    {
     "data": {
      "text/plain": [
       "array([[0, 0, 0, ..., 0, 0, 0],\n",
       "       [0, 1, 1, ..., 0, 0, 0],\n",
       "       [1, 1, 2, ..., 0, 0, 0],\n",
       "       ...,\n",
       "       [0, 0, 0, ..., 0, 0, 0],\n",
       "       [4, 1, 1, ..., 0, 0, 0],\n",
       "       [2, 0, 4, ..., 0, 0, 0]])"
      ]
     },
     "execution_count": 39,
     "metadata": {},
     "output_type": "execute_result"
    }
   ],
   "source": [
    "char_5gram_vectorizer = CountVectorizer(analyzer='char_wb', ngram_range=(5, 5))\n",
    "X_train_char_5grams = char_5gram_vectorizer.fit_transform(X_train)\n",
    "X_test_char_5grams = char_5gram_vectorizer.fit_transform(X_test)"
   ]
  },
  {
   "cell_type": "code",
   "execution_count": 40,
   "metadata": {},
   "outputs": [],
   "source": [
    "# Fit the LSI model and perform dimensionality reduction\n",
    "X_train_char_5grams_reduced = svd.fit_transform(X_train_char_5grams)\n",
    "X_test_char_5grams_reduced = svd.fit_transform(X_test_char_5grams)"
   ]
  },
  {
   "cell_type": "code",
   "execution_count": 41,
   "metadata": {
    "scrolled": false
   },
   "outputs": [
    {
     "name": "stdout",
     "output_type": "stream",
     "text": [
      "========== Character 5-grams (SVM) ==========\n",
      "The F-1 score for test query is 0.46976818940786447\n",
      "Training accuracy of SVM model is 0.7140658839621566\n",
      "Test accuracy of SVM model is 0.5489583333333333\n",
      "\n"
     ]
    }
   ],
   "source": [
    "# 4. Support Vector Machine\n",
    "svm_clf = svm.SVC(gamma='scale')\n",
    "svm_clf.fit(X_train_char_5grams_reduced, y_train)\n",
    "\n",
    "predicted_test = svm_clf.predict(X_test_char_5grams_reduced)\n",
    "predicted_train = svm_clf.predict(X_train_char_5grams_reduced)\n",
    "\n",
    "print('========== Character 5-grams (SVM) ==========')\n",
    "print('The F-1 score for test query is ' + str(metrics.f1_score(y_test, predicted_test, average = 'macro')))\n",
    "print('Training accuracy of SVM model is ' + str(np.mean(predicted_train == y_train)))\n",
    "print('Test accuracy of SVM model is ' + str(np.mean(predicted_test == y_test)))\n",
    "print('')"
   ]
  },
  {
   "cell_type": "markdown",
   "metadata": {},
   "source": [
    "Character 6-grams"
   ]
  },
  {
   "cell_type": "code",
   "execution_count": 42,
   "metadata": {},
   "outputs": [
    {
     "data": {
      "text/plain": [
       "array([[0, 0, 0, ..., 0, 0, 0],\n",
       "       [0, 1, 1, ..., 0, 0, 0],\n",
       "       [1, 1, 2, ..., 0, 0, 0],\n",
       "       ...,\n",
       "       [0, 0, 0, ..., 0, 0, 0],\n",
       "       [4, 1, 1, ..., 0, 0, 0],\n",
       "       [2, 0, 4, ..., 0, 0, 0]])"
      ]
     },
     "execution_count": 42,
     "metadata": {},
     "output_type": "execute_result"
    }
   ],
   "source": [
    "char_6gram_vectorizer = CountVectorizer(analyzer='char_wb', ngram_range=(6, 6))\n",
    "X_train_char_6grams = char_6gram_vectorizer.fit_transform(X_train)\n",
    "X_test_char_6grams = char_6gram_vectorizer.fit_transform(X_test)"
   ]
  },
  {
   "cell_type": "code",
   "execution_count": 43,
   "metadata": {},
   "outputs": [],
   "source": [
    "# Fit the LSI model and perform dimensionality reduction\n",
    "X_train_char_6grams_reduced = svd.fit_transform(X_train_char_6grams)\n",
    "X_test_char_6grams_reduced = svd.fit_transform(X_test_char_6grams)"
   ]
  },
  {
   "cell_type": "code",
   "execution_count": 44,
   "metadata": {
    "scrolled": false
   },
   "outputs": [
    {
     "name": "stdout",
     "output_type": "stream",
     "text": [
      "========== Character 5-grams (SVM) ==========\n",
      "The F-1 score for test query is 0.46976818940786447\n",
      "Training accuracy of SVM model is 0.7140658839621566\n",
      "Test accuracy of SVM model is 0.5489583333333333\n",
      "\n"
     ]
    }
   ],
   "source": [
    "# 4. Support Vector Machine\n",
    "svm_clf = svm.SVC(gamma='scale')\n",
    "svm_clf.fit(X_train_char_6grams_reduced, y_train)\n",
    "\n",
    "predicted_test = svm_clf.predict(X_test_char_6grams_reduced)\n",
    "predicted_train = svm_clf.predict(X_train_char_6grams_reduced)\n",
    "\n",
    "print('========== Character 6-grams (SVM) ==========')\n",
    "print('The F-1 score for test query is ' + str(metrics.f1_score(y_test, predicted_test, average = 'macro')))\n",
    "print('Training accuracy of SVM model is ' + str(np.mean(predicted_train == y_train)))\n",
    "print('Test accuracy of SVM model is ' + str(np.mean(predicted_test == y_test)))\n",
    "print('')"
   ]
  },
  {
   "cell_type": "markdown",
   "metadata": {},
   "source": [
    "Character 7-grams"
   ]
  },
  {
   "cell_type": "code",
   "execution_count": 45,
   "metadata": {},
   "outputs": [
    {
     "data": {
      "text/plain": [
       "array([[0, 0, 0, ..., 0, 0, 0],\n",
       "       [0, 1, 1, ..., 0, 0, 0],\n",
       "       [1, 1, 2, ..., 0, 0, 0],\n",
       "       ...,\n",
       "       [0, 0, 0, ..., 0, 0, 0],\n",
       "       [4, 1, 1, ..., 0, 0, 0],\n",
       "       [2, 0, 4, ..., 0, 0, 0]])"
      ]
     },
     "execution_count": 45,
     "metadata": {},
     "output_type": "execute_result"
    }
   ],
   "source": [
    "char_7gram_vectorizer = CountVectorizer(analyzer='char_wb', ngram_range=(7, 7))\n",
    "X_train_char_7grams = char_7gram_vectorizer.fit_transform(X_train)\n",
    "X_test_char_7grams = char_7gram_vectorizer.fit_transform(X_test)"
   ]
  },
  {
   "cell_type": "code",
   "execution_count": 46,
   "metadata": {},
   "outputs": [],
   "source": [
    "# Fit the LSI model and perform dimensionality reduction\n",
    "X_train_char_7grams_reduced = svd.fit_transform(X_train_char_7grams)\n",
    "X_test_char_7grams_reduced = svd.fit_transform(X_test_char_7grams)"
   ]
  },
  {
   "cell_type": "code",
   "execution_count": null,
   "metadata": {},
   "outputs": [],
   "source": [
    "# 4. Support Vector Machine\n",
    "svm_clf = svm.SVC(gamma='scale')\n",
    "svm_clf.fit(X_train_char_7grams_reduced, y_train)\n",
    "\n",
    "predicted_test = svm_clf.predict(X_test_char_7grams_reduced)\n",
    "predicted_train = svm_clf.predict(X_train_char_7grams_reduced)\n",
    "\n",
    "print('========== Character 7-grams (SVM) ==========')\n",
    "print('The F-1 score for test query is ' + str(metrics.f1_score(y_test, predicted_test, average = 'macro')))\n",
    "print('Training accuracy of SVM model is ' + str(np.mean(predicted_train == y_train)))\n",
    "print('Test accuracy of SVM model is ' + str(np.mean(predicted_test == y_test)))\n",
    "print('')"
   ]
  },
  {
   "cell_type": "markdown",
   "metadata": {},
   "source": [
    "Character 8-grams"
   ]
  },
  {
   "cell_type": "code",
   "execution_count": 48,
   "metadata": {},
   "outputs": [
    {
     "data": {
      "text/plain": [
       "array([[0, 0, 0, ..., 0, 0, 0],\n",
       "       [0, 1, 1, ..., 0, 0, 0],\n",
       "       [1, 1, 2, ..., 0, 0, 0],\n",
       "       ...,\n",
       "       [0, 0, 0, ..., 0, 0, 0],\n",
       "       [4, 1, 1, ..., 0, 0, 0],\n",
       "       [2, 0, 4, ..., 0, 0, 0]])"
      ]
     },
     "execution_count": 48,
     "metadata": {},
     "output_type": "execute_result"
    }
   ],
   "source": [
    "char_8gram_vectorizer = CountVectorizer(analyzer='char_wb', ngram_range=(8, 8))\n",
    "X_train_char_8grams = char_8gram_vectorizer.fit_transform(X_train)\n",
    "X_test_char_8grams = char_8gram_vectorizer.fit_transform(X_test)"
   ]
  },
  {
   "cell_type": "code",
   "execution_count": 49,
   "metadata": {},
   "outputs": [],
   "source": [
    "# Fit the LSI model and perform dimensionality reduction\n",
    "X_train_char_8grams_reduced = svd.fit_transform(X_train_char_8grams)\n",
    "X_test_char_8grams_reduced = svd.fit_transform(X_test_char_8grams)"
   ]
  },
  {
   "cell_type": "code",
   "execution_count": 50,
   "metadata": {
    "scrolled": false
   },
   "outputs": [
    {
     "name": "stdout",
     "output_type": "stream",
     "text": [
      "========== Character 5-grams (SVM) ==========\n",
      "The F-1 score for test query is 0.46976818940786447\n",
      "Training accuracy of SVM model is 0.7140658839621566\n",
      "Test accuracy of SVM model is 0.5489583333333333\n",
      "\n"
     ]
    }
   ],
   "source": [
    "# Support Vector Machine\n",
    "svm_clf = svm.SVC(gamma='scale')\n",
    "svm_clf.fit(X_train_char_8grams_reduced, y_train)\n",
    "\n",
    "predicted_test = svm_clf.predict(X_test_char_8grams_reduced)\n",
    "predicted_train = svm_clf.predict(X_train_char_8grams_reduced)\n",
    "\n",
    "print('========== Character 8-grams (SVM) ==========')\n",
    "print('The F-1 score for test query is ' + str(metrics.f1_score(y_test, predicted_test, average = 'macro')))\n",
    "print('Training accuracy of SVM model is ' + str(np.mean(predicted_train == y_train)))\n",
    "print('Test accuracy of SVM model is ' + str(np.mean(predicted_test == y_test)))\n",
    "print('')"
   ]
  },
  {
   "cell_type": "markdown",
   "metadata": {},
   "source": [
    "Word unigrams"
   ]
  },
  {
   "cell_type": "code",
   "execution_count": 55,
   "metadata": {},
   "outputs": [],
   "source": [
    "word_unigram_vectorizer = CountVectorizer(analyzer='word', ngram_range=(1, 1))\n",
    "X_train_word_unigrams = word_unigram_vectorizer.fit_transform(X_train)\n",
    "X_test_word_unigrams = word_unigram_vectorizer.fit_transform(X_test)"
   ]
  },
  {
   "cell_type": "code",
   "execution_count": 56,
   "metadata": {},
   "outputs": [],
   "source": [
    "# Fit the LSI model and perform dimensionality reduction\n",
    "X_train_word_unigrams_reduced = svd.fit_transform(X_train_word_unigrams)\n",
    "X_test_word_unigrams_reduced = svd.fit_transform(X_test_word_unigrams)"
   ]
  },
  {
   "cell_type": "code",
   "execution_count": 57,
   "metadata": {
    "scrolled": false
   },
   "outputs": [
    {
     "name": "stdout",
     "output_type": "stream",
     "text": [
      "========== Character 5-grams (SVM) ==========\n",
      "The F-1 score for test query is 0.6314399701297755\n",
      "Training accuracy of SVM model is 0.7387438732474638\n",
      "Test accuracy of SVM model is 0.63875\n",
      "\n"
     ]
    }
   ],
   "source": [
    "# Support Vector Machine\n",
    "svm_clf = svm.SVC(gamma='scale')\n",
    "svm_clf.fit(X_train_word_unigrams_reduced, y_train)\n",
    "\n",
    "predicted_test = svm_clf.predict(X_test_word_unigrams_reduced)\n",
    "predicted_train = svm_clf.predict(X_train_word_unigrams_reduced)\n",
    "\n",
    "print('========== Word unigrams (SVM) ==========')\n",
    "print('The F-1 score for test query is ' + str(metrics.f1_score(y_test, predicted_test, average = 'macro')))\n",
    "print('Training accuracy of SVM model is ' + str(np.mean(predicted_train == y_train)))\n",
    "print('Test accuracy of SVM model is ' + str(np.mean(predicted_test == y_test)))\n",
    "print('')"
   ]
  },
  {
   "cell_type": "markdown",
   "metadata": {},
   "source": [
    "Word bigrams"
   ]
  },
  {
   "cell_type": "code",
   "execution_count": 58,
   "metadata": {},
   "outputs": [],
   "source": [
    "word_bigram_vectorizer = CountVectorizer(analyzer='word', ngram_range=(2, 2))\n",
    "X_train_word_bigrams = word_bigram_vectorizer.fit_transform(X_train)\n",
    "X_test_word_bigrams = word_bigram_vectorizer.fit_transform(X_test)"
   ]
  },
  {
   "cell_type": "code",
   "execution_count": 59,
   "metadata": {},
   "outputs": [],
   "source": [
    "# Fit the LSI model and perform dimensionality reduction\n",
    "X_train_word_bigrams_reduced = svd.fit_transform(X_train_word_bigrams)\n",
    "X_test_word_bigrams_reduced = svd.fit_transform(X_test_word_bigrams)"
   ]
  },
  {
   "cell_type": "code",
   "execution_count": 60,
   "metadata": {
    "scrolled": false
   },
   "outputs": [
    {
     "name": "stdout",
     "output_type": "stream",
     "text": [
      "========== Character 5-grams (SVM) ==========\n",
      "The F-1 score for test query is 0.6314399701297755\n",
      "Training accuracy of SVM model is 0.7387438732474638\n",
      "Test accuracy of SVM model is 0.63875\n",
      "\n"
     ]
    }
   ],
   "source": [
    "# Support Vector Machine\n",
    "svm_clf = svm.SVC(gamma='scale')\n",
    "svm_clf.fit(X_train_word_bigrams_reduced, y_train)\n",
    "\n",
    "predicted_test = svm_clf.predict(X_test_word_bigrams_reduced)\n",
    "predicted_train = svm_clf.predict(X_train_word_bigrams_reduced)\n",
    "\n",
    "print('========== Word bigrams (SVM) ==========')\n",
    "print('The F-1 score for test query is ' + str(metrics.f1_score(y_test, predicted_test, average = 'macro')))\n",
    "print('Training accuracy of SVM model is ' + str(np.mean(predicted_train == y_train)))\n",
    "print('Test accuracy of SVM model is ' + str(np.mean(predicted_test == y_test)))\n",
    "print('')"
   ]
  },
  {
   "cell_type": "markdown",
   "metadata": {},
   "source": [
    "Word trigrams"
   ]
  },
  {
   "cell_type": "code",
   "execution_count": 139,
   "metadata": {},
   "outputs": [],
   "source": [
    "word_trigram_vectorizer = CountVectorizer(analyzer='word', ngram_range=(3, 3))\n",
    "X_train_word_trigrams = word_trigram_vectorizer.fit_transform(X_train)\n",
    "X_test_word_trigrams = word_trigram_vectorizer.fit_transform(X_test)"
   ]
  },
  {
   "cell_type": "code",
   "execution_count": 140,
   "metadata": {},
   "outputs": [],
   "source": [
    "# Fit the LSI model and perform dimensionality reduction\n",
    "X_train_word_trigrams_reduced = svd.fit_transform(X_train_word_trigrams)\n",
    "X_test_word_trigrams_reduced = svd.fit_transform(X_test_word_trigrams)"
   ]
  },
  {
   "cell_type": "code",
   "execution_count": 141,
   "metadata": {
    "scrolled": true
   },
   "outputs": [
    {
     "ename": "ValueError",
     "evalue": "X.shape[1] = 82789 should be equal to 280703, the number of features at training time",
     "output_type": "error",
     "traceback": [
      "\u001b[0;31m---------------------------------------------------------------------------\u001b[0m",
      "\u001b[0;31mValueError\u001b[0m                                Traceback (most recent call last)",
      "\u001b[0;32m<ipython-input-141-8e470292972d>\u001b[0m in \u001b[0;36m<module>\u001b[0;34m\u001b[0m\n\u001b[1;32m      3\u001b[0m \u001b[0msvm_clf\u001b[0m\u001b[0;34m.\u001b[0m\u001b[0mfit\u001b[0m\u001b[0;34m(\u001b[0m\u001b[0mX_train_word_trigrams\u001b[0m\u001b[0;34m,\u001b[0m \u001b[0my_train\u001b[0m\u001b[0;34m)\u001b[0m\u001b[0;34m\u001b[0m\u001b[0;34m\u001b[0m\u001b[0m\n\u001b[1;32m      4\u001b[0m \u001b[0;34m\u001b[0m\u001b[0m\n\u001b[0;32m----> 5\u001b[0;31m \u001b[0mpredicted_test\u001b[0m \u001b[0;34m=\u001b[0m \u001b[0msvm_clf\u001b[0m\u001b[0;34m.\u001b[0m\u001b[0mpredict\u001b[0m\u001b[0;34m(\u001b[0m\u001b[0mX_test_word_trigrams\u001b[0m\u001b[0;34m)\u001b[0m\u001b[0;34m\u001b[0m\u001b[0;34m\u001b[0m\u001b[0m\n\u001b[0m\u001b[1;32m      6\u001b[0m \u001b[0mpredicted_train\u001b[0m \u001b[0;34m=\u001b[0m \u001b[0msvm_clf\u001b[0m\u001b[0;34m.\u001b[0m\u001b[0mpredict\u001b[0m\u001b[0;34m(\u001b[0m\u001b[0mX_train_word_trigrams\u001b[0m\u001b[0;34m)\u001b[0m\u001b[0;34m\u001b[0m\u001b[0;34m\u001b[0m\u001b[0m\n\u001b[1;32m      7\u001b[0m \u001b[0;34m\u001b[0m\u001b[0m\n",
      "\u001b[0;32m/usr/local/lib/python3.6/dist-packages/sklearn/svm/base.py\u001b[0m in \u001b[0;36mpredict\u001b[0;34m(self, X)\u001b[0m\n\u001b[1;32m    572\u001b[0m             \u001b[0mClass\u001b[0m \u001b[0mlabels\u001b[0m \u001b[0;32mfor\u001b[0m \u001b[0msamples\u001b[0m \u001b[0;32min\u001b[0m \u001b[0mX\u001b[0m\u001b[0;34m.\u001b[0m\u001b[0;34m\u001b[0m\u001b[0;34m\u001b[0m\u001b[0m\n\u001b[1;32m    573\u001b[0m         \"\"\"\n\u001b[0;32m--> 574\u001b[0;31m         \u001b[0my\u001b[0m \u001b[0;34m=\u001b[0m \u001b[0msuper\u001b[0m\u001b[0;34m(\u001b[0m\u001b[0;34m)\u001b[0m\u001b[0;34m.\u001b[0m\u001b[0mpredict\u001b[0m\u001b[0;34m(\u001b[0m\u001b[0mX\u001b[0m\u001b[0;34m)\u001b[0m\u001b[0;34m\u001b[0m\u001b[0;34m\u001b[0m\u001b[0m\n\u001b[0m\u001b[1;32m    575\u001b[0m         \u001b[0;32mreturn\u001b[0m \u001b[0mself\u001b[0m\u001b[0;34m.\u001b[0m\u001b[0mclasses_\u001b[0m\u001b[0;34m.\u001b[0m\u001b[0mtake\u001b[0m\u001b[0;34m(\u001b[0m\u001b[0mnp\u001b[0m\u001b[0;34m.\u001b[0m\u001b[0masarray\u001b[0m\u001b[0;34m(\u001b[0m\u001b[0my\u001b[0m\u001b[0;34m,\u001b[0m \u001b[0mdtype\u001b[0m\u001b[0;34m=\u001b[0m\u001b[0mnp\u001b[0m\u001b[0;34m.\u001b[0m\u001b[0mintp\u001b[0m\u001b[0;34m)\u001b[0m\u001b[0;34m)\u001b[0m\u001b[0;34m\u001b[0m\u001b[0;34m\u001b[0m\u001b[0m\n\u001b[1;32m    576\u001b[0m \u001b[0;34m\u001b[0m\u001b[0m\n",
      "\u001b[0;32m/usr/local/lib/python3.6/dist-packages/sklearn/svm/base.py\u001b[0m in \u001b[0;36mpredict\u001b[0;34m(self, X)\u001b[0m\n\u001b[1;32m    320\u001b[0m         \u001b[0my_pred\u001b[0m \u001b[0;34m:\u001b[0m \u001b[0marray\u001b[0m\u001b[0;34m,\u001b[0m \u001b[0mshape\u001b[0m \u001b[0;34m(\u001b[0m\u001b[0mn_samples\u001b[0m\u001b[0;34m,\u001b[0m\u001b[0;34m)\u001b[0m\u001b[0;34m\u001b[0m\u001b[0;34m\u001b[0m\u001b[0m\n\u001b[1;32m    321\u001b[0m         \"\"\"\n\u001b[0;32m--> 322\u001b[0;31m         \u001b[0mX\u001b[0m \u001b[0;34m=\u001b[0m \u001b[0mself\u001b[0m\u001b[0;34m.\u001b[0m\u001b[0m_validate_for_predict\u001b[0m\u001b[0;34m(\u001b[0m\u001b[0mX\u001b[0m\u001b[0;34m)\u001b[0m\u001b[0;34m\u001b[0m\u001b[0;34m\u001b[0m\u001b[0m\n\u001b[0m\u001b[1;32m    323\u001b[0m         \u001b[0mpredict\u001b[0m \u001b[0;34m=\u001b[0m \u001b[0mself\u001b[0m\u001b[0;34m.\u001b[0m\u001b[0m_sparse_predict\u001b[0m \u001b[0;32mif\u001b[0m \u001b[0mself\u001b[0m\u001b[0;34m.\u001b[0m\u001b[0m_sparse\u001b[0m \u001b[0;32melse\u001b[0m \u001b[0mself\u001b[0m\u001b[0;34m.\u001b[0m\u001b[0m_dense_predict\u001b[0m\u001b[0;34m\u001b[0m\u001b[0;34m\u001b[0m\u001b[0m\n\u001b[1;32m    324\u001b[0m         \u001b[0;32mreturn\u001b[0m \u001b[0mpredict\u001b[0m\u001b[0;34m(\u001b[0m\u001b[0mX\u001b[0m\u001b[0;34m)\u001b[0m\u001b[0;34m\u001b[0m\u001b[0;34m\u001b[0m\u001b[0m\n",
      "\u001b[0;32m/usr/local/lib/python3.6/dist-packages/sklearn/svm/base.py\u001b[0m in \u001b[0;36m_validate_for_predict\u001b[0;34m(self, X)\u001b[0m\n\u001b[1;32m    472\u001b[0m             raise ValueError(\"X.shape[1] = %d should be equal to %d, \"\n\u001b[1;32m    473\u001b[0m                              \u001b[0;34m\"the number of features at training time\"\u001b[0m \u001b[0;34m%\u001b[0m\u001b[0;34m\u001b[0m\u001b[0;34m\u001b[0m\u001b[0m\n\u001b[0;32m--> 474\u001b[0;31m                              (n_features, self.shape_fit_[1]))\n\u001b[0m\u001b[1;32m    475\u001b[0m         \u001b[0;32mreturn\u001b[0m \u001b[0mX\u001b[0m\u001b[0;34m\u001b[0m\u001b[0;34m\u001b[0m\u001b[0m\n\u001b[1;32m    476\u001b[0m \u001b[0;34m\u001b[0m\u001b[0m\n",
      "\u001b[0;31mValueError\u001b[0m: X.shape[1] = 82789 should be equal to 280703, the number of features at training time"
     ]
    }
   ],
   "source": [
    "# Support Vector Machine\n",
    "svm_clf = svm.SVC(gamma='scale')\n",
    "svm_clf.fit(X_train_word_trigrams, y_train)\n",
    "\n",
    "predicted_test = svm_clf.predict(X_test_word_trigrams)\n",
    "predicted_train = svm_clf.predict(X_train_word_trigrams)\n",
    "\n",
    "print('========== Word trigrams (SVM) ==========')\n",
    "print('The F-1 score for test query is ' + str(metrics.f1_score(y_test, predicted_test, average = 'macro')))\n",
    "print('Training accuracy of SVM model is ' + str(np.mean(predicted_train == y_train)))\n",
    "print('Test accuracy of SVM model is ' + str(np.mean(predicted_test == y_test)))\n",
    "print('')"
   ]
  },
  {
   "cell_type": "code",
   "execution_count": 111,
   "metadata": {},
   "outputs": [],
   "source": [
    "from toolz import itertoolz, compose\n",
    "from toolz.curried import map as cmap, sliding_window, pluck\n",
    "from sklearn.feature_extraction.text import CountVectorizer"
   ]
  },
  {
   "cell_type": "code",
   "execution_count": 119,
   "metadata": {},
   "outputs": [],
   "source": [
    "class OneSkipBigramVectorizer(CountVectorizer):\n",
    "    def build_analyzer(self):    \n",
    "        preprocess = self.build_preprocessor()\n",
    "        stop_words = self.get_stop_words()\n",
    "        tokenize = self.build_tokenizer()\n",
    "        return lambda doc: self._word_skip_grams(\n",
    "                compose(tokenize, preprocess, self.decode)(doc),\n",
    "                stop_words)\n",
    "\n",
    "    def _word_skip_grams(self, tokens, stop_words=None):\n",
    "        # handle stop words\n",
    "        if stop_words is not None:\n",
    "            tokens = [w for w in tokens if w not in stop_words]\n",
    "\n",
    "        return compose(cmap(' '.join), pluck([0, 2]), sliding_window(3))(tokens)"
   ]
  },
  {
   "cell_type": "code",
   "execution_count": 120,
   "metadata": {},
   "outputs": [],
   "source": [
    "class TwoSkipBigramVectorizer(CountVectorizer):\n",
    "    def build_analyzer(self):    \n",
    "        preprocess = self.build_preprocessor()\n",
    "        stop_words = self.get_stop_words()\n",
    "        tokenize = self.build_tokenizer()\n",
    "        return lambda doc: self._word_skip_grams(\n",
    "                compose(tokenize, preprocess, self.decode)(doc),\n",
    "                stop_words)\n",
    "\n",
    "    def _word_skip_grams(self, tokens, stop_words=None):\n",
    "        # handle stop words\n",
    "        if stop_words is not None:\n",
    "            tokens = [w for w in tokens if w not in stop_words]\n",
    "\n",
    "        return compose(cmap(' '.join), pluck([0, 3]), sliding_window(4))(tokens)"
   ]
  },
  {
   "cell_type": "code",
   "execution_count": 121,
   "metadata": {},
   "outputs": [],
   "source": [
    "class ThreeSkipBigramVectorizer(CountVectorizer):\n",
    "    def build_analyzer(self):    \n",
    "        preprocess = self.build_preprocessor()\n",
    "        stop_words = self.get_stop_words()\n",
    "        tokenize = self.build_tokenizer()\n",
    "        return lambda doc: self._word_skip_grams(\n",
    "                compose(tokenize, preprocess, self.decode)(doc),\n",
    "                stop_words)\n",
    "\n",
    "    def _word_skip_grams(self, tokens, stop_words=None):\n",
    "        # handle stop words\n",
    "        if stop_words is not None:\n",
    "            tokens = [w for w in tokens if w not in stop_words]\n",
    "\n",
    "        return compose(cmap(' '.join), pluck([0, 4]), sliding_window(5))(tokens)"
   ]
  },
  {
   "cell_type": "markdown",
   "metadata": {},
   "source": [
    "1-skip bigrams"
   ]
  },
  {
   "cell_type": "code",
   "execution_count": 130,
   "metadata": {},
   "outputs": [],
   "source": [
    "one_skip_bigram_vectorizer = OneSkipBigramVectorizer()\n",
    "# vect.fit(X_train)\n",
    "X_train_one_skip_bigrams = one_skip_bigram_vectorizer.fit_transform(X_train)\n",
    "X_test_one_skip_bigrams = one_skip_bigram_vectorizer.fit_transform(X_test)"
   ]
  },
  {
   "cell_type": "code",
   "execution_count": 131,
   "metadata": {},
   "outputs": [],
   "source": [
    "# Fit the LSI model and perform dimensionality reduction\n",
    "X_train_one_skip_bigrams_reduced = svd.fit_transform(X_train_one_skip_bigrams)\n",
    "X_test_one_skip_bigrams_reduced = svd.fit_transform(X_test_one_skip_bigrams)"
   ]
  },
  {
   "cell_type": "code",
   "execution_count": 132,
   "metadata": {
    "scrolled": true
   },
   "outputs": [
    {
     "name": "stdout",
     "output_type": "stream",
     "text": [
      "========== Word trigrams (SVM) ==========\n",
      "The F-1 score for test query is 0.5604783092032326\n",
      "Training accuracy of SVM model is 0.7071127322466659\n",
      "Test accuracy of SVM model is 0.5864583333333333\n",
      "\n"
     ]
    }
   ],
   "source": [
    "# Support Vector Machine\n",
    "svm_clf = svm.SVC(gamma='scale')\n",
    "svm_clf.fit(X_train_one_skip_bigrams_reduced, y_train)\n",
    "\n",
    "predicted_test = svm_clf.predict(X_test_one_skip_bigrams_reduced)\n",
    "predicted_train = svm_clf.predict(X_train_one_skip_bigrams_reduced)\n",
    "\n",
    "print('========== 1-skip bigrams (SVM) ==========')\n",
    "print('The F-1 score for test query is ' + str(metrics.f1_score(y_test, predicted_test, average = 'macro')))\n",
    "print('Training accuracy of SVM model is ' + str(np.mean(predicted_train == y_train)))\n",
    "print('Test accuracy of SVM model is ' + str(np.mean(predicted_test == y_test)))\n",
    "print('')"
   ]
  },
  {
   "cell_type": "markdown",
   "metadata": {},
   "source": [
    "2-skip bigrams"
   ]
  },
  {
   "cell_type": "code",
   "execution_count": 133,
   "metadata": {},
   "outputs": [],
   "source": [
    "two_skip_bigram_vectorizer = TwoSkipBigramVectorizer()\n",
    "# vect.fit(X_train)\n",
    "X_train_two_skip_bigrams = two_skip_bigram_vectorizer.fit_transform(X_train)\n",
    "X_test_two_skip_bigrams = two_skip_bigram_vectorizer.fit_transform(X_test)"
   ]
  },
  {
   "cell_type": "code",
   "execution_count": 134,
   "metadata": {},
   "outputs": [],
   "source": [
    "# Fit the LSI model and perform dimensionality reduction\n",
    "X_train_two_skip_bigrams_reduced = svd.fit_transform(X_train_two_skip_bigrams)\n",
    "X_test_two_skip_bigrams_reduced = svd.fit_transform(X_test_two_skip_bigrams)"
   ]
  },
  {
   "cell_type": "code",
   "execution_count": 135,
   "metadata": {
    "scrolled": true
   },
   "outputs": [
    {
     "name": "stdout",
     "output_type": "stream",
     "text": [
      "========== Word trigrams (SVM) ==========\n",
      "The F-1 score for test query is 0.5810189134250331\n",
      "Training accuracy of SVM model is 0.7059728713097002\n",
      "Test accuracy of SVM model is 0.5975\n",
      "\n"
     ]
    }
   ],
   "source": [
    "# Support Vector Machine\n",
    "svm_clf = svm.SVC(gamma='scale')\n",
    "svm_clf.fit(X_train_two_skip_bigrams_reduced, y_train)\n",
    "\n",
    "predicted_test = svm_clf.predict(X_test_two_skip_bigrams_reduced)\n",
    "predicted_train = svm_clf.predict(X_train_two_skip_bigrams_reduced)\n",
    "\n",
    "print('========== 2-skip bigrams (SVM) ==========')\n",
    "print('The F-1 score for test query is ' + str(metrics.f1_score(y_test, predicted_test, average = 'macro')))\n",
    "print('Training accuracy of SVM model is ' + str(np.mean(predicted_train == y_train)))\n",
    "print('Test accuracy of SVM model is ' + str(np.mean(predicted_test == y_test)))\n",
    "print('')"
   ]
  },
  {
   "cell_type": "markdown",
   "metadata": {},
   "source": [
    "3-skip bigrams"
   ]
  },
  {
   "cell_type": "code",
   "execution_count": 136,
   "metadata": {},
   "outputs": [],
   "source": [
    "three_skip_bigram_vectorizer = ThreeSkipBigramVectorizer()\n",
    "# vect.fit(X_train)\n",
    "X_train_three_skip_bigrams = three_skip_bigram_vectorizer.fit_transform(X_train)\n",
    "X_test_three_skip_bigrams = three_skip_bigram_vectorizer.fit_transform(X_test)"
   ]
  },
  {
   "cell_type": "code",
   "execution_count": 137,
   "metadata": {},
   "outputs": [],
   "source": [
    "# Fit the LSI model and perform dimensionality reduction\n",
    "X_train_three_skip_bigrams_reduced = svd.fit_transform(X_train_three_skip_bigrams)\n",
    "X_test_three_skip_bigrams_reduced = svd.fit_transform(X_test_three_skip_bigrams)"
   ]
  },
  {
   "cell_type": "code",
   "execution_count": 138,
   "metadata": {
    "scrolled": true
   },
   "outputs": [
    {
     "name": "stdout",
     "output_type": "stream",
     "text": [
      "========== Word trigrams (SVM) ==========\n",
      "The F-1 score for test query is 0.5832349984703467\n",
      "Training accuracy of SVM model is 0.7022113302177134\n",
      "Test accuracy of SVM model is 0.5964583333333333\n",
      "\n"
     ]
    }
   ],
   "source": [
    "# Support Vector Machine\n",
    "svm_clf = svm.SVC(gamma='scale')\n",
    "svm_clf.fit(X_train_three_skip_bigrams_reduced, y_train)\n",
    "\n",
    "predicted_test = svm_clf.predict(X_test_three_skip_bigrams_reduced)\n",
    "predicted_train = svm_clf.predict(X_train_three_skip_bigrams_reduced)\n",
    "\n",
    "print('========== 3-skip bigrams (SVM) ==========')\n",
    "print('The F-1 score for test query is ' + str(metrics.f1_score(y_test, predicted_test, average = 'macro')))\n",
    "print('Training accuracy of SVM model is ' + str(np.mean(predicted_train == y_train)))\n",
    "print('Test accuracy of SVM model is ' + str(np.mean(predicted_test == y_test)))\n",
    "print('')"
   ]
  },
  {
   "cell_type": "markdown",
   "metadata": {},
   "source": [
    "All features"
   ]
  },
  {
   "cell_type": "code",
   "execution_count": 150,
   "metadata": {},
   "outputs": [],
   "source": [
    "all_features_vectorizer = CountVectorizer(analyzer='word', ngram_range=(3, 3))\n",
    "X_train_all_features = all_features_vectorizer.fit_transform(X_train)\n",
    "X_test_all_features = all_features_vectorizer.fit_transform(X_test)"
   ]
  },
  {
   "cell_type": "code",
   "execution_count": 151,
   "metadata": {},
   "outputs": [],
   "source": [
    "# Fit the LSI model and perform dimensionality reduction\n",
    "X_train_all_features_reduced = svd.fit_transform(X_train_all_features)\n",
    "X_test_all_features_reduced = svd.fit_transform(X_test_all_features)"
   ]
  },
  {
   "cell_type": "code",
   "execution_count": 154,
   "metadata": {},
   "outputs": [
    {
     "data": {
      "text/plain": [
       "80"
      ]
     },
     "execution_count": 154,
     "metadata": {},
     "output_type": "execute_result"
    }
   ],
   "source": [
    "X_train_all_features_reduced.shape[1]"
   ]
  },
  {
   "cell_type": "code",
   "execution_count": 155,
   "metadata": {
    "scrolled": true
   },
   "outputs": [
    {
     "name": "stdout",
     "output_type": "stream",
     "text": [
      "========== Word trigrams (SVM) ==========\n",
      "The F-1 score for test query is 0.5124197211202561\n",
      "Training accuracy of SVM model is 0.6191724609597629\n",
      "Test accuracy of SVM model is 0.5604166666666667\n",
      "\n"
     ]
    }
   ],
   "source": [
    "# Support Vector Machine\n",
    "svm_clf = svm.SVC(gamma='scale')\n",
    "svm_clf.fit(X_train_all_features_reduced, y_train)\n",
    "\n",
    "predicted_test = svm_clf.predict(X_test_all_features_reduced)\n",
    "predicted_train = svm_clf.predict(X_train_all_features_reduced)\n",
    "\n",
    "print('========== Word trigrams (SVM) ==========')\n",
    "print('The F-1 score for test query is ' + str(metrics.f1_score(y_test, predicted_test, average = 'macro')))\n",
    "print('Training accuracy of SVM model is ' + str(np.mean(predicted_train == y_train)))\n",
    "print('Test accuracy of SVM model is ' + str(np.mean(predicted_test == y_test)))\n",
    "print('')"
   ]
  }
 ],
 "metadata": {
  "kernelspec": {
   "display_name": "Python 3",
   "language": "python",
   "name": "python3"
  }
 },
 "nbformat": 4,
 "nbformat_minor": 2
}
